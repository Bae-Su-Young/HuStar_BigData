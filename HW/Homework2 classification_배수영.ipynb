{
 "cells": [
  {
   "cell_type": "markdown",
   "metadata": {},
   "source": [
    "# Homework 2: Classification"
   ]
  },
  {
   "cell_type": "markdown",
   "metadata": {},
   "source": [
    "아래 데이터는 이번 과제에 사용할 \"Cardio\" 데이터입니다.   \n",
    "\n",
    "각 컬럼에 대한 간단한 설명은 다음과 같습니다. \n",
    "1.\tAge: 나이 (integer)   \n",
    "2.\tHeight: 키(cm) (float)   \n",
    "3.\tWeight: 몸무게(kg) (float)   \n",
    "4.\tGender: 성별 {‘M’, ‘F’} (binary)   \n",
    "5.\tAp_hi: 수축기 혈압 (integer)   \n",
    "6.\tAp_lo: 이완기 혈압 (integer)   \n",
    "7.\tCholesterol: 콜레스테롤 상태 (categorical)   \n",
    "8.\tGluc: 포도당 상태 (categorical)   \n",
    "9.\tSmoke: 흡연 여부 (binary)   \n",
    "10.\tAlco: 음주 여부 (binary)    \n",
    "11.\tActive: 신체 활동(운동) 여부 (binary)   \n",
    "12.\tCardio: 심혈관계질환 여부 (binary, target variable)    \n",
    "\n",
    "종속변수는 cardio입니다."
   ]
  },
  {
   "cell_type": "code",
   "execution_count": 1,
   "metadata": {},
   "outputs": [],
   "source": [
    "import numpy as np\n",
    "import pandas as pd"
   ]
  },
  {
   "cell_type": "code",
   "execution_count": 2,
   "metadata": {
    "scrolled": true
   },
   "outputs": [],
   "source": [
    "df = pd.read_csv('./Cardio.csv')"
   ]
  },
  {
   "cell_type": "code",
   "execution_count": 3,
   "metadata": {
    "scrolled": true
   },
   "outputs": [
    {
     "data": {
      "text/html": [
       "<div>\n",
       "<style scoped>\n",
       "    .dataframe tbody tr th:only-of-type {\n",
       "        vertical-align: middle;\n",
       "    }\n",
       "\n",
       "    .dataframe tbody tr th {\n",
       "        vertical-align: top;\n",
       "    }\n",
       "\n",
       "    .dataframe thead th {\n",
       "        text-align: right;\n",
       "    }\n",
       "</style>\n",
       "<table border=\"1\" class=\"dataframe\">\n",
       "  <thead>\n",
       "    <tr style=\"text-align: right;\">\n",
       "      <th></th>\n",
       "      <th>age</th>\n",
       "      <th>gender</th>\n",
       "      <th>height</th>\n",
       "      <th>weight</th>\n",
       "      <th>ap_hi</th>\n",
       "      <th>ap_lo</th>\n",
       "      <th>cholesterol</th>\n",
       "      <th>gluc</th>\n",
       "      <th>smoke</th>\n",
       "      <th>alco</th>\n",
       "      <th>active</th>\n",
       "      <th>cardio</th>\n",
       "    </tr>\n",
       "  </thead>\n",
       "  <tbody>\n",
       "    <tr>\n",
       "      <th>0</th>\n",
       "      <td>61</td>\n",
       "      <td>F</td>\n",
       "      <td>155</td>\n",
       "      <td>69.0</td>\n",
       "      <td>130</td>\n",
       "      <td>80</td>\n",
       "      <td>above normal</td>\n",
       "      <td>above normal</td>\n",
       "      <td>no</td>\n",
       "      <td>no</td>\n",
       "      <td>yes</td>\n",
       "      <td>no</td>\n",
       "    </tr>\n",
       "    <tr>\n",
       "      <th>1</th>\n",
       "      <td>40</td>\n",
       "      <td>F</td>\n",
       "      <td>163</td>\n",
       "      <td>71.0</td>\n",
       "      <td>110</td>\n",
       "      <td>70</td>\n",
       "      <td>normal</td>\n",
       "      <td>normal</td>\n",
       "      <td>no</td>\n",
       "      <td>no</td>\n",
       "      <td>yes</td>\n",
       "      <td>yes</td>\n",
       "    </tr>\n",
       "    <tr>\n",
       "      <th>2</th>\n",
       "      <td>60</td>\n",
       "      <td>F</td>\n",
       "      <td>165</td>\n",
       "      <td>70.0</td>\n",
       "      <td>120</td>\n",
       "      <td>80</td>\n",
       "      <td>normal</td>\n",
       "      <td>normal</td>\n",
       "      <td>no</td>\n",
       "      <td>no</td>\n",
       "      <td>yes</td>\n",
       "      <td>no</td>\n",
       "    </tr>\n",
       "    <tr>\n",
       "      <th>3</th>\n",
       "      <td>39</td>\n",
       "      <td>M</td>\n",
       "      <td>165</td>\n",
       "      <td>85.0</td>\n",
       "      <td>120</td>\n",
       "      <td>80</td>\n",
       "      <td>normal</td>\n",
       "      <td>normal</td>\n",
       "      <td>yes</td>\n",
       "      <td>yes</td>\n",
       "      <td>yes</td>\n",
       "      <td>no</td>\n",
       "    </tr>\n",
       "    <tr>\n",
       "      <th>4</th>\n",
       "      <td>64</td>\n",
       "      <td>F</td>\n",
       "      <td>155</td>\n",
       "      <td>62.0</td>\n",
       "      <td>120</td>\n",
       "      <td>80</td>\n",
       "      <td>normal</td>\n",
       "      <td>normal</td>\n",
       "      <td>no</td>\n",
       "      <td>no</td>\n",
       "      <td>yes</td>\n",
       "      <td>no</td>\n",
       "    </tr>\n",
       "  </tbody>\n",
       "</table>\n",
       "</div>"
      ],
      "text/plain": [
       "   age gender  height  weight  ap_hi  ap_lo   cholesterol          gluc smoke  \\\n",
       "0   61      F     155    69.0    130     80  above normal  above normal    no   \n",
       "1   40      F     163    71.0    110     70        normal        normal    no   \n",
       "2   60      F     165    70.0    120     80        normal        normal    no   \n",
       "3   39      M     165    85.0    120     80        normal        normal   yes   \n",
       "4   64      F     155    62.0    120     80        normal        normal    no   \n",
       "\n",
       "  alco active cardio  \n",
       "0   no    yes     no  \n",
       "1   no    yes    yes  \n",
       "2   no    yes     no  \n",
       "3  yes    yes     no  \n",
       "4   no    yes     no  "
      ]
     },
     "execution_count": 3,
     "metadata": {},
     "output_type": "execute_result"
    }
   ],
   "source": [
    "df.head()"
   ]
  },
  {
   "cell_type": "code",
   "execution_count": 4,
   "metadata": {},
   "outputs": [
    {
     "data": {
      "text/html": [
       "<div>\n",
       "<style scoped>\n",
       "    .dataframe tbody tr th:only-of-type {\n",
       "        vertical-align: middle;\n",
       "    }\n",
       "\n",
       "    .dataframe tbody tr th {\n",
       "        vertical-align: top;\n",
       "    }\n",
       "\n",
       "    .dataframe thead th {\n",
       "        text-align: right;\n",
       "    }\n",
       "</style>\n",
       "<table border=\"1\" class=\"dataframe\">\n",
       "  <thead>\n",
       "    <tr style=\"text-align: right;\">\n",
       "      <th></th>\n",
       "      <th>age</th>\n",
       "      <th>height</th>\n",
       "      <th>weight</th>\n",
       "      <th>ap_hi</th>\n",
       "      <th>ap_lo</th>\n",
       "    </tr>\n",
       "  </thead>\n",
       "  <tbody>\n",
       "    <tr>\n",
       "      <th>0</th>\n",
       "      <td>61</td>\n",
       "      <td>155</td>\n",
       "      <td>69.0</td>\n",
       "      <td>130</td>\n",
       "      <td>80</td>\n",
       "    </tr>\n",
       "    <tr>\n",
       "      <th>1</th>\n",
       "      <td>40</td>\n",
       "      <td>163</td>\n",
       "      <td>71.0</td>\n",
       "      <td>110</td>\n",
       "      <td>70</td>\n",
       "    </tr>\n",
       "    <tr>\n",
       "      <th>2</th>\n",
       "      <td>60</td>\n",
       "      <td>165</td>\n",
       "      <td>70.0</td>\n",
       "      <td>120</td>\n",
       "      <td>80</td>\n",
       "    </tr>\n",
       "    <tr>\n",
       "      <th>3</th>\n",
       "      <td>39</td>\n",
       "      <td>165</td>\n",
       "      <td>85.0</td>\n",
       "      <td>120</td>\n",
       "      <td>80</td>\n",
       "    </tr>\n",
       "    <tr>\n",
       "      <th>4</th>\n",
       "      <td>64</td>\n",
       "      <td>155</td>\n",
       "      <td>62.0</td>\n",
       "      <td>120</td>\n",
       "      <td>80</td>\n",
       "    </tr>\n",
       "  </tbody>\n",
       "</table>\n",
       "</div>"
      ],
      "text/plain": [
       "   age  height  weight  ap_hi  ap_lo\n",
       "0   61     155    69.0    130     80\n",
       "1   40     163    71.0    110     70\n",
       "2   60     165    70.0    120     80\n",
       "3   39     165    85.0    120     80\n",
       "4   64     155    62.0    120     80"
      ]
     },
     "execution_count": 4,
     "metadata": {},
     "output_type": "execute_result"
    }
   ],
   "source": [
    "df_c=df.loc[:,['age','height','weight','ap_hi','ap_lo']]\n",
    "df_c.head()"
   ]
  },
  {
   "cell_type": "markdown",
   "metadata": {},
   "source": [
    "## Question \n",
    "심혈관계질환 여부 ('cardio' = 1 or 0)을 예측하는 classification 문제를 해결하세요."
   ]
  },
  {
   "cell_type": "markdown",
   "metadata": {},
   "source": [
    "## [Guidline]\n",
    "0. [주어진 데이터를 모델에 사용할 수 있도록 전처리해주세요.](#0)\n",
    "1. [train과 test를 8:2로 나눠주세요.](#1)   \n",
    "2. [train에 대해서 로지스틱 모델을 학습시키고 모델을 평가해주세요.](#2)\n",
    "3. [train에 대해서 트리 모델을 학습시키고 모델을 평가해주세요.](#3)  \n",
    "4. [train에 대해서 랜덤 포레스트 모델을 학습시키고 모델을 평가해주세요.](#4)\n",
    "5. [트리 모델과 랜덤 포레스트 모델의 성능을 비교하고 왜 그런 차이가 났는 지 설명하세요.](#5)  \n",
    "    * 주피터 마크다운에 간략하게 적어 주시면 됩니다."
   ]
  },
  {
   "cell_type": "markdown",
   "metadata": {},
   "source": [
    "<a id='0'></a>"
   ]
  },
  {
   "cell_type": "markdown",
   "metadata": {},
   "source": [
    "## [0. 주어진 데이터를 모델에 사용할 수 있도록 전처리해주세요.](#0)"
   ]
  },
  {
   "cell_type": "markdown",
   "metadata": {},
   "source": [
    "Hint: cardio 데이터를 종속 변수로 사용하려면 no:0, yes:1 에 대응이 되야 하며 여러 numeric값이 아닌 다른 컬럼들에 대해서도 __비슷한__ 전처리가 가능합니다."
   ]
  },
  {
   "cell_type": "code",
   "execution_count": null,
   "metadata": {},
   "outputs": [],
   "source": []
  },
  {
   "cell_type": "code",
   "execution_count": 5,
   "metadata": {},
   "outputs": [
    {
     "name": "stdout",
     "output_type": "stream",
     "text": [
      "<class 'pandas.core.frame.DataFrame'>\n",
      "RangeIndex: 69301 entries, 0 to 69300\n",
      "Data columns (total 12 columns):\n",
      " #   Column       Non-Null Count  Dtype  \n",
      "---  ------       --------------  -----  \n",
      " 0   age          69301 non-null  int64  \n",
      " 1   gender       69301 non-null  object \n",
      " 2   height       69301 non-null  int64  \n",
      " 3   weight       69301 non-null  float64\n",
      " 4   ap_hi        69301 non-null  int64  \n",
      " 5   ap_lo        69301 non-null  int64  \n",
      " 6   cholesterol  69301 non-null  object \n",
      " 7   gluc         69301 non-null  object \n",
      " 8   smoke        69301 non-null  object \n",
      " 9   alco         69301 non-null  object \n",
      " 10  active       69301 non-null  object \n",
      " 11  cardio       69301 non-null  object \n",
      "dtypes: float64(1), int64(4), object(7)\n",
      "memory usage: 6.3+ MB\n"
     ]
    },
    {
     "data": {
      "text/html": [
       "<div>\n",
       "<style scoped>\n",
       "    .dataframe tbody tr th:only-of-type {\n",
       "        vertical-align: middle;\n",
       "    }\n",
       "\n",
       "    .dataframe tbody tr th {\n",
       "        vertical-align: top;\n",
       "    }\n",
       "\n",
       "    .dataframe thead th {\n",
       "        text-align: right;\n",
       "    }\n",
       "</style>\n",
       "<table border=\"1\" class=\"dataframe\">\n",
       "  <thead>\n",
       "    <tr style=\"text-align: right;\">\n",
       "      <th></th>\n",
       "      <th>age</th>\n",
       "      <th>gender</th>\n",
       "      <th>height</th>\n",
       "      <th>weight</th>\n",
       "      <th>ap_hi</th>\n",
       "      <th>ap_lo</th>\n",
       "      <th>cholesterol</th>\n",
       "      <th>gluc</th>\n",
       "      <th>smoke</th>\n",
       "      <th>alco</th>\n",
       "      <th>active</th>\n",
       "      <th>cardio</th>\n",
       "    </tr>\n",
       "  </thead>\n",
       "  <tbody>\n",
       "    <tr>\n",
       "      <th>0</th>\n",
       "      <td>61</td>\n",
       "      <td>0</td>\n",
       "      <td>155</td>\n",
       "      <td>69.0</td>\n",
       "      <td>130</td>\n",
       "      <td>80</td>\n",
       "      <td>above normal</td>\n",
       "      <td>above normal</td>\n",
       "      <td>0</td>\n",
       "      <td>0</td>\n",
       "      <td>1</td>\n",
       "      <td>0</td>\n",
       "    </tr>\n",
       "    <tr>\n",
       "      <th>1</th>\n",
       "      <td>40</td>\n",
       "      <td>0</td>\n",
       "      <td>163</td>\n",
       "      <td>71.0</td>\n",
       "      <td>110</td>\n",
       "      <td>70</td>\n",
       "      <td>normal</td>\n",
       "      <td>normal</td>\n",
       "      <td>0</td>\n",
       "      <td>0</td>\n",
       "      <td>1</td>\n",
       "      <td>1</td>\n",
       "    </tr>\n",
       "    <tr>\n",
       "      <th>2</th>\n",
       "      <td>60</td>\n",
       "      <td>0</td>\n",
       "      <td>165</td>\n",
       "      <td>70.0</td>\n",
       "      <td>120</td>\n",
       "      <td>80</td>\n",
       "      <td>normal</td>\n",
       "      <td>normal</td>\n",
       "      <td>0</td>\n",
       "      <td>0</td>\n",
       "      <td>1</td>\n",
       "      <td>0</td>\n",
       "    </tr>\n",
       "    <tr>\n",
       "      <th>3</th>\n",
       "      <td>39</td>\n",
       "      <td>1</td>\n",
       "      <td>165</td>\n",
       "      <td>85.0</td>\n",
       "      <td>120</td>\n",
       "      <td>80</td>\n",
       "      <td>normal</td>\n",
       "      <td>normal</td>\n",
       "      <td>1</td>\n",
       "      <td>1</td>\n",
       "      <td>1</td>\n",
       "      <td>0</td>\n",
       "    </tr>\n",
       "    <tr>\n",
       "      <th>4</th>\n",
       "      <td>64</td>\n",
       "      <td>0</td>\n",
       "      <td>155</td>\n",
       "      <td>62.0</td>\n",
       "      <td>120</td>\n",
       "      <td>80</td>\n",
       "      <td>normal</td>\n",
       "      <td>normal</td>\n",
       "      <td>0</td>\n",
       "      <td>0</td>\n",
       "      <td>1</td>\n",
       "      <td>0</td>\n",
       "    </tr>\n",
       "    <tr>\n",
       "      <th>...</th>\n",
       "      <td>...</td>\n",
       "      <td>...</td>\n",
       "      <td>...</td>\n",
       "      <td>...</td>\n",
       "      <td>...</td>\n",
       "      <td>...</td>\n",
       "      <td>...</td>\n",
       "      <td>...</td>\n",
       "      <td>...</td>\n",
       "      <td>...</td>\n",
       "      <td>...</td>\n",
       "      <td>...</td>\n",
       "    </tr>\n",
       "    <tr>\n",
       "      <th>69296</th>\n",
       "      <td>52</td>\n",
       "      <td>1</td>\n",
       "      <td>168</td>\n",
       "      <td>76.0</td>\n",
       "      <td>120</td>\n",
       "      <td>80</td>\n",
       "      <td>normal</td>\n",
       "      <td>normal</td>\n",
       "      <td>1</td>\n",
       "      <td>0</td>\n",
       "      <td>1</td>\n",
       "      <td>0</td>\n",
       "    </tr>\n",
       "    <tr>\n",
       "      <th>69297</th>\n",
       "      <td>61</td>\n",
       "      <td>0</td>\n",
       "      <td>158</td>\n",
       "      <td>126.0</td>\n",
       "      <td>140</td>\n",
       "      <td>90</td>\n",
       "      <td>above normal</td>\n",
       "      <td>above normal</td>\n",
       "      <td>0</td>\n",
       "      <td>0</td>\n",
       "      <td>1</td>\n",
       "      <td>1</td>\n",
       "    </tr>\n",
       "    <tr>\n",
       "      <th>69298</th>\n",
       "      <td>52</td>\n",
       "      <td>1</td>\n",
       "      <td>183</td>\n",
       "      <td>105.0</td>\n",
       "      <td>180</td>\n",
       "      <td>90</td>\n",
       "      <td>well above normal</td>\n",
       "      <td>normal</td>\n",
       "      <td>0</td>\n",
       "      <td>1</td>\n",
       "      <td>0</td>\n",
       "      <td>1</td>\n",
       "    </tr>\n",
       "    <tr>\n",
       "      <th>69299</th>\n",
       "      <td>61</td>\n",
       "      <td>0</td>\n",
       "      <td>163</td>\n",
       "      <td>72.0</td>\n",
       "      <td>135</td>\n",
       "      <td>80</td>\n",
       "      <td>normal</td>\n",
       "      <td>above normal</td>\n",
       "      <td>0</td>\n",
       "      <td>0</td>\n",
       "      <td>0</td>\n",
       "      <td>1</td>\n",
       "    </tr>\n",
       "    <tr>\n",
       "      <th>69300</th>\n",
       "      <td>56</td>\n",
       "      <td>0</td>\n",
       "      <td>170</td>\n",
       "      <td>72.0</td>\n",
       "      <td>120</td>\n",
       "      <td>80</td>\n",
       "      <td>above normal</td>\n",
       "      <td>normal</td>\n",
       "      <td>0</td>\n",
       "      <td>0</td>\n",
       "      <td>1</td>\n",
       "      <td>0</td>\n",
       "    </tr>\n",
       "  </tbody>\n",
       "</table>\n",
       "<p>69301 rows × 12 columns</p>\n",
       "</div>"
      ],
      "text/plain": [
       "       age  gender  height  weight  ap_hi  ap_lo        cholesterol  \\\n",
       "0       61       0     155    69.0    130     80       above normal   \n",
       "1       40       0     163    71.0    110     70             normal   \n",
       "2       60       0     165    70.0    120     80             normal   \n",
       "3       39       1     165    85.0    120     80             normal   \n",
       "4       64       0     155    62.0    120     80             normal   \n",
       "...    ...     ...     ...     ...    ...    ...                ...   \n",
       "69296   52       1     168    76.0    120     80             normal   \n",
       "69297   61       0     158   126.0    140     90       above normal   \n",
       "69298   52       1     183   105.0    180     90  well above normal   \n",
       "69299   61       0     163    72.0    135     80             normal   \n",
       "69300   56       0     170    72.0    120     80       above normal   \n",
       "\n",
       "               gluc  smoke  alco  active  cardio  \n",
       "0      above normal      0     0       1       0  \n",
       "1            normal      0     0       1       1  \n",
       "2            normal      0     0       1       0  \n",
       "3            normal      1     1       1       0  \n",
       "4            normal      0     0       1       0  \n",
       "...             ...    ...   ...     ...     ...  \n",
       "69296        normal      1     0       1       0  \n",
       "69297  above normal      0     0       1       1  \n",
       "69298        normal      0     1       0       1  \n",
       "69299  above normal      0     0       0       1  \n",
       "69300        normal      0     0       1       0  \n",
       "\n",
       "[69301 rows x 12 columns]"
      ]
     },
     "execution_count": 5,
     "metadata": {},
     "output_type": "execute_result"
    }
   ],
   "source": [
    "df.info()\n",
    "\n",
    "no_yes={'no':0,'yes':1}\n",
    "f_m={'F':0,'M':1}\n",
    "\n",
    "df['smoke']=df['smoke'].map(no_yes)\n",
    "df['alco']=df['alco'].map(no_yes)\n",
    "df['active']=df['active'].map(no_yes)\n",
    "df['cardio']=df['cardio'].map(no_yes)\n",
    "df['gender']=df['gender'].map(f_m)\n",
    "df"
   ]
  },
  {
   "cell_type": "code",
   "execution_count": 6,
   "metadata": {},
   "outputs": [
    {
     "data": {
      "text/html": [
       "<div>\n",
       "<style scoped>\n",
       "    .dataframe tbody tr th:only-of-type {\n",
       "        vertical-align: middle;\n",
       "    }\n",
       "\n",
       "    .dataframe tbody tr th {\n",
       "        vertical-align: top;\n",
       "    }\n",
       "\n",
       "    .dataframe thead th {\n",
       "        text-align: right;\n",
       "    }\n",
       "</style>\n",
       "<table border=\"1\" class=\"dataframe\">\n",
       "  <thead>\n",
       "    <tr style=\"text-align: right;\">\n",
       "      <th></th>\n",
       "      <th>age</th>\n",
       "      <th>gender</th>\n",
       "      <th>height</th>\n",
       "      <th>weight</th>\n",
       "      <th>ap_hi</th>\n",
       "      <th>ap_lo</th>\n",
       "      <th>smoke</th>\n",
       "      <th>alco</th>\n",
       "      <th>active</th>\n",
       "      <th>cholesterol_above normal</th>\n",
       "      <th>cholesterol_normal</th>\n",
       "      <th>cholesterol_well above normal</th>\n",
       "      <th>gluc_above normal</th>\n",
       "      <th>gluc_normal</th>\n",
       "      <th>gluc_well above normal</th>\n",
       "      <th>cardio</th>\n",
       "    </tr>\n",
       "  </thead>\n",
       "  <tbody>\n",
       "    <tr>\n",
       "      <th>0</th>\n",
       "      <td>61</td>\n",
       "      <td>0</td>\n",
       "      <td>155</td>\n",
       "      <td>69.0</td>\n",
       "      <td>130</td>\n",
       "      <td>80</td>\n",
       "      <td>0</td>\n",
       "      <td>0</td>\n",
       "      <td>1</td>\n",
       "      <td>1</td>\n",
       "      <td>0</td>\n",
       "      <td>0</td>\n",
       "      <td>1</td>\n",
       "      <td>0</td>\n",
       "      <td>0</td>\n",
       "      <td>0</td>\n",
       "    </tr>\n",
       "    <tr>\n",
       "      <th>1</th>\n",
       "      <td>40</td>\n",
       "      <td>0</td>\n",
       "      <td>163</td>\n",
       "      <td>71.0</td>\n",
       "      <td>110</td>\n",
       "      <td>70</td>\n",
       "      <td>0</td>\n",
       "      <td>0</td>\n",
       "      <td>1</td>\n",
       "      <td>0</td>\n",
       "      <td>1</td>\n",
       "      <td>0</td>\n",
       "      <td>0</td>\n",
       "      <td>1</td>\n",
       "      <td>0</td>\n",
       "      <td>1</td>\n",
       "    </tr>\n",
       "    <tr>\n",
       "      <th>2</th>\n",
       "      <td>60</td>\n",
       "      <td>0</td>\n",
       "      <td>165</td>\n",
       "      <td>70.0</td>\n",
       "      <td>120</td>\n",
       "      <td>80</td>\n",
       "      <td>0</td>\n",
       "      <td>0</td>\n",
       "      <td>1</td>\n",
       "      <td>0</td>\n",
       "      <td>1</td>\n",
       "      <td>0</td>\n",
       "      <td>0</td>\n",
       "      <td>1</td>\n",
       "      <td>0</td>\n",
       "      <td>0</td>\n",
       "    </tr>\n",
       "    <tr>\n",
       "      <th>3</th>\n",
       "      <td>39</td>\n",
       "      <td>1</td>\n",
       "      <td>165</td>\n",
       "      <td>85.0</td>\n",
       "      <td>120</td>\n",
       "      <td>80</td>\n",
       "      <td>1</td>\n",
       "      <td>1</td>\n",
       "      <td>1</td>\n",
       "      <td>0</td>\n",
       "      <td>1</td>\n",
       "      <td>0</td>\n",
       "      <td>0</td>\n",
       "      <td>1</td>\n",
       "      <td>0</td>\n",
       "      <td>0</td>\n",
       "    </tr>\n",
       "    <tr>\n",
       "      <th>4</th>\n",
       "      <td>64</td>\n",
       "      <td>0</td>\n",
       "      <td>155</td>\n",
       "      <td>62.0</td>\n",
       "      <td>120</td>\n",
       "      <td>80</td>\n",
       "      <td>0</td>\n",
       "      <td>0</td>\n",
       "      <td>1</td>\n",
       "      <td>0</td>\n",
       "      <td>1</td>\n",
       "      <td>0</td>\n",
       "      <td>0</td>\n",
       "      <td>1</td>\n",
       "      <td>0</td>\n",
       "      <td>0</td>\n",
       "    </tr>\n",
       "    <tr>\n",
       "      <th>...</th>\n",
       "      <td>...</td>\n",
       "      <td>...</td>\n",
       "      <td>...</td>\n",
       "      <td>...</td>\n",
       "      <td>...</td>\n",
       "      <td>...</td>\n",
       "      <td>...</td>\n",
       "      <td>...</td>\n",
       "      <td>...</td>\n",
       "      <td>...</td>\n",
       "      <td>...</td>\n",
       "      <td>...</td>\n",
       "      <td>...</td>\n",
       "      <td>...</td>\n",
       "      <td>...</td>\n",
       "      <td>...</td>\n",
       "    </tr>\n",
       "    <tr>\n",
       "      <th>69296</th>\n",
       "      <td>52</td>\n",
       "      <td>1</td>\n",
       "      <td>168</td>\n",
       "      <td>76.0</td>\n",
       "      <td>120</td>\n",
       "      <td>80</td>\n",
       "      <td>1</td>\n",
       "      <td>0</td>\n",
       "      <td>1</td>\n",
       "      <td>0</td>\n",
       "      <td>1</td>\n",
       "      <td>0</td>\n",
       "      <td>0</td>\n",
       "      <td>1</td>\n",
       "      <td>0</td>\n",
       "      <td>0</td>\n",
       "    </tr>\n",
       "    <tr>\n",
       "      <th>69297</th>\n",
       "      <td>61</td>\n",
       "      <td>0</td>\n",
       "      <td>158</td>\n",
       "      <td>126.0</td>\n",
       "      <td>140</td>\n",
       "      <td>90</td>\n",
       "      <td>0</td>\n",
       "      <td>0</td>\n",
       "      <td>1</td>\n",
       "      <td>1</td>\n",
       "      <td>0</td>\n",
       "      <td>0</td>\n",
       "      <td>1</td>\n",
       "      <td>0</td>\n",
       "      <td>0</td>\n",
       "      <td>1</td>\n",
       "    </tr>\n",
       "    <tr>\n",
       "      <th>69298</th>\n",
       "      <td>52</td>\n",
       "      <td>1</td>\n",
       "      <td>183</td>\n",
       "      <td>105.0</td>\n",
       "      <td>180</td>\n",
       "      <td>90</td>\n",
       "      <td>0</td>\n",
       "      <td>1</td>\n",
       "      <td>0</td>\n",
       "      <td>0</td>\n",
       "      <td>0</td>\n",
       "      <td>1</td>\n",
       "      <td>0</td>\n",
       "      <td>1</td>\n",
       "      <td>0</td>\n",
       "      <td>1</td>\n",
       "    </tr>\n",
       "    <tr>\n",
       "      <th>69299</th>\n",
       "      <td>61</td>\n",
       "      <td>0</td>\n",
       "      <td>163</td>\n",
       "      <td>72.0</td>\n",
       "      <td>135</td>\n",
       "      <td>80</td>\n",
       "      <td>0</td>\n",
       "      <td>0</td>\n",
       "      <td>0</td>\n",
       "      <td>0</td>\n",
       "      <td>1</td>\n",
       "      <td>0</td>\n",
       "      <td>1</td>\n",
       "      <td>0</td>\n",
       "      <td>0</td>\n",
       "      <td>1</td>\n",
       "    </tr>\n",
       "    <tr>\n",
       "      <th>69300</th>\n",
       "      <td>56</td>\n",
       "      <td>0</td>\n",
       "      <td>170</td>\n",
       "      <td>72.0</td>\n",
       "      <td>120</td>\n",
       "      <td>80</td>\n",
       "      <td>0</td>\n",
       "      <td>0</td>\n",
       "      <td>1</td>\n",
       "      <td>1</td>\n",
       "      <td>0</td>\n",
       "      <td>0</td>\n",
       "      <td>0</td>\n",
       "      <td>1</td>\n",
       "      <td>0</td>\n",
       "      <td>0</td>\n",
       "    </tr>\n",
       "  </tbody>\n",
       "</table>\n",
       "<p>69301 rows × 16 columns</p>\n",
       "</div>"
      ],
      "text/plain": [
       "       age  gender  height  weight  ap_hi  ap_lo  smoke  alco  active  \\\n",
       "0       61       0     155    69.0    130     80      0     0       1   \n",
       "1       40       0     163    71.0    110     70      0     0       1   \n",
       "2       60       0     165    70.0    120     80      0     0       1   \n",
       "3       39       1     165    85.0    120     80      1     1       1   \n",
       "4       64       0     155    62.0    120     80      0     0       1   \n",
       "...    ...     ...     ...     ...    ...    ...    ...   ...     ...   \n",
       "69296   52       1     168    76.0    120     80      1     0       1   \n",
       "69297   61       0     158   126.0    140     90      0     0       1   \n",
       "69298   52       1     183   105.0    180     90      0     1       0   \n",
       "69299   61       0     163    72.0    135     80      0     0       0   \n",
       "69300   56       0     170    72.0    120     80      0     0       1   \n",
       "\n",
       "       cholesterol_above normal  cholesterol_normal  \\\n",
       "0                             1                   0   \n",
       "1                             0                   1   \n",
       "2                             0                   1   \n",
       "3                             0                   1   \n",
       "4                             0                   1   \n",
       "...                         ...                 ...   \n",
       "69296                         0                   1   \n",
       "69297                         1                   0   \n",
       "69298                         0                   0   \n",
       "69299                         0                   1   \n",
       "69300                         1                   0   \n",
       "\n",
       "       cholesterol_well above normal  gluc_above normal  gluc_normal  \\\n",
       "0                                  0                  1            0   \n",
       "1                                  0                  0            1   \n",
       "2                                  0                  0            1   \n",
       "3                                  0                  0            1   \n",
       "4                                  0                  0            1   \n",
       "...                              ...                ...          ...   \n",
       "69296                              0                  0            1   \n",
       "69297                              0                  1            0   \n",
       "69298                              1                  0            1   \n",
       "69299                              0                  1            0   \n",
       "69300                              0                  0            1   \n",
       "\n",
       "       gluc_well above normal  cardio  \n",
       "0                           0       0  \n",
       "1                           0       1  \n",
       "2                           0       0  \n",
       "3                           0       0  \n",
       "4                           0       0  \n",
       "...                       ...     ...  \n",
       "69296                       0       0  \n",
       "69297                       0       1  \n",
       "69298                       0       1  \n",
       "69299                       0       1  \n",
       "69300                       0       0  \n",
       "\n",
       "[69301 rows x 16 columns]"
      ]
     },
     "execution_count": 6,
     "metadata": {},
     "output_type": "execute_result"
    }
   ],
   "source": [
    "df_ohe=pd.get_dummies(df)\n",
    "df_ohe\n",
    "label=df_ohe.pop('cardio')\n",
    "df_ohe=pd.concat([df_ohe,label],axis=1)\n",
    "df_ohe"
   ]
  },
  {
   "cell_type": "markdown",
   "metadata": {},
   "source": [
    "<a id='1'></a>"
   ]
  },
  {
   "cell_type": "markdown",
   "metadata": {},
   "source": [
    "## [1. train과 test를 8:2로 나눠주세요.](#0)"
   ]
  },
  {
   "cell_type": "code",
   "execution_count": 7,
   "metadata": {},
   "outputs": [],
   "source": [
    "from sklearn.model_selection import train_test_split\n",
    "X=df_ohe.iloc[:,:-1].values\n",
    "y=df_ohe.iloc[:,-1].values\n",
    "X_train,X_test,y_train,y_test=train_test_split(X,y,test_size=0.2)"
   ]
  },
  {
   "cell_type": "markdown",
   "metadata": {},
   "source": [
    "<a id='2'></a>"
   ]
  },
  {
   "cell_type": "markdown",
   "metadata": {},
   "source": [
    "## [2. train에 대해서 로지스틱 모델을 학습시키고 모델을 평가해주세요.](#0)"
   ]
  },
  {
   "cell_type": "code",
   "execution_count": 8,
   "metadata": {},
   "outputs": [],
   "source": [
    "from sklearn.linear_model import LogisticRegression"
   ]
  },
  {
   "cell_type": "code",
   "execution_count": 9,
   "metadata": {},
   "outputs": [
    {
     "name": "stderr",
     "output_type": "stream",
     "text": [
      "/home/piai/anaconda3/lib/python3.8/site-packages/sklearn/linear_model/_logistic.py:762: ConvergenceWarning: lbfgs failed to converge (status=1):\n",
      "STOP: TOTAL NO. of ITERATIONS REACHED LIMIT.\n",
      "\n",
      "Increase the number of iterations (max_iter) or scale the data as shown in:\n",
      "    https://scikit-learn.org/stable/modules/preprocessing.html\n",
      "Please also refer to the documentation for alternative solver options:\n",
      "    https://scikit-learn.org/stable/modules/linear_model.html#logistic-regression\n",
      "  n_iter_i = _check_optimize_result(\n"
     ]
    },
    {
     "data": {
      "text/plain": [
       "LogisticRegression()"
      ]
     },
     "execution_count": 9,
     "metadata": {},
     "output_type": "execute_result"
    }
   ],
   "source": [
    "logistic=LogisticRegression()\n",
    "logistic.fit(X_train,y_train)"
   ]
  },
  {
   "cell_type": "code",
   "execution_count": 10,
   "metadata": {},
   "outputs": [
    {
     "name": "stdout",
     "output_type": "stream",
     "text": [
      "회귀계수: [[ 3.95163613e-02  3.65862931e-01 -4.44349512e-02  1.77013967e-02\n",
      "   3.63939913e-02  2.67949790e-04 -7.50303877e-02 -1.01147629e-01\n",
      "  -3.38083222e-01 -9.22863609e-02 -5.42066029e-01  4.67856272e-01\n",
      "  -7.19284964e-02 -3.73114744e-03 -9.08364740e-02]]\n",
      "Accuracy: 0.712\n"
     ]
    }
   ],
   "source": [
    "print('회귀계수:', logistic.coef_)\n",
    "print('Accuracy:', round(logistic.score(X, y),3))"
   ]
  },
  {
   "cell_type": "code",
   "execution_count": 11,
   "metadata": {},
   "outputs": [],
   "source": [
    "from sklearn.metrics import accuracy_score, recall_score, precision_score, f1_score, mean_squared_error"
   ]
  },
  {
   "cell_type": "code",
   "execution_count": 12,
   "metadata": {},
   "outputs": [],
   "source": [
    "def print_summary(model,y):\n",
    "    print('Accuracy: ', round(accuracy_score(y, model),3))\n",
    "    print('Recall: ', round(recall_score(y, model),3))\n",
    "    print('Precision:', round(precision_score(y, model),3))\n",
    "    print('F1 Score:', round(f1_score(y, model),3))"
   ]
  },
  {
   "cell_type": "code",
   "execution_count": 13,
   "metadata": {},
   "outputs": [
    {
     "name": "stdout",
     "output_type": "stream",
     "text": [
      "=========Train Data=======\n",
      "Accuracy:  0.712\n",
      "Recall:  0.671\n",
      "Precision: 0.73\n",
      "F1 Score: 0.699\n",
      "\n",
      "=========Test Data=======\n",
      "Accuracy:  0.713\n",
      "Recall:  0.674\n",
      "Precision: 0.733\n",
      "F1 Score: 0.702\n"
     ]
    }
   ],
   "source": [
    "train_pred_logistic=logistic.predict(X_train)\n",
    "test_pred_logistic = logistic.predict(X_test)\n",
    "\n",
    "print(\"=========Train Data=======\")\n",
    "print_summary(train_pred_logistic,y_train)\n",
    "print(\"\\n=========Test Data=======\")\n",
    "print_summary(test_pred_logistic,y_test)\n"
   ]
  },
  {
   "cell_type": "code",
   "execution_count": 27,
   "metadata": {},
   "outputs": [
    {
     "data": {
      "text/plain": [
       "Text(0.5, 0, 'False Positive Rate')"
      ]
     },
     "execution_count": 27,
     "metadata": {},
     "output_type": "execute_result"
    },
    {
     "data": {
      "image/png": "[encoded data removed]",
      "text/plain": [
       "<Figure size 432x288 with 1 Axes>"
      ]
     },
     "metadata": {
      "needs_background": "light"
     },
     "output_type": "display_data"
    }
   ],
   "source": [
    "from sklearn.metrics import plot_confusion_matrix\n",
    "import sklearn.metrics as metrics\n",
    "import matplotlib.pyplot as plt\n",
    "fpr,tpr,thresholds=metrics.roc_curve(y_train, train_pred_logistic)\n",
    "roc_auc=metrics.auc(fpr,tpr)\n",
    "plt.title('Receiver Operating Characteristic')\n",
    "plt.plot(fpr, tpr, 'b', label = 'AUC = %0.2f' % roc_auc)\n",
    "plt.legend(loc = 'lower right')\n",
    "plt.plot([0, 1], [0, 1],'r--')\n",
    "plt.xlim([0, 1])\n",
    "plt.ylim([0, 1])\n",
    "plt.ylabel('True Positive Rate')\n",
    "plt.xlabel('False Positive Rate')"
   ]
  },
  {
   "cell_type": "code",
   "execution_count": 15,
   "metadata": {},
   "outputs": [
    {
     "data": {
      "text/plain": [
       "array([[20915,  6866],\n",
       "       [ 9097, 18562]])"
      ]
     },
     "execution_count": 15,
     "metadata": {},
     "output_type": "execute_result"
    }
   ],
   "source": [
    "from sklearn.metrics import confusion_matrix\n",
    "confusion_matrix(y_train, train_pred_logistic)"
   ]
  },
  {
   "cell_type": "markdown",
   "metadata": {},
   "source": [
    "#### 평가\n",
    "train dataset에 대해 정확도가 0.708로 높지 않은 정확도이다. 그리고 test dataset에 대해서도 정확도가 비슷한 것으로 보아 로지스틱 회귀 모델은 의미가 크지 않은 것으로 평가된다"
   ]
  },
  {
   "cell_type": "markdown",
   "metadata": {},
   "source": [
    "<a id='3'></a>"
   ]
  },
  {
   "cell_type": "markdown",
   "metadata": {},
   "source": [
    "## [3. train에 대해서 트리 모델을 학습시키고 모델을 평가해주세요.](#0)"
   ]
  },
  {
   "cell_type": "code",
   "execution_count": 16,
   "metadata": {},
   "outputs": [],
   "source": [
    "from sklearn.tree import DecisionTreeClassifier"
   ]
  },
  {
   "cell_type": "markdown",
   "metadata": {},
   "source": [
    "<a id='4'></a>"
   ]
  },
  {
   "cell_type": "code",
   "execution_count": 17,
   "metadata": {},
   "outputs": [],
   "source": [
    "tree=DecisionTreeClassifier()\n",
    "tree.fit(X_train,y_train)\n",
    "\n",
    "train_pred_tree=tree.predict(X_train)\n",
    "test_pred_tree=tree.predict(X_test)"
   ]
  },
  {
   "cell_type": "code",
   "execution_count": 18,
   "metadata": {},
   "outputs": [
    {
     "name": "stdout",
     "output_type": "stream",
     "text": [
      "=========Train Data=======\n",
      "Accuracy:  0.98\n",
      "Recall:  0.964\n",
      "Precision: 0.996\n",
      "F1 Score: 0.979\n",
      "\n",
      "=========Test Data=======\n",
      "Accuracy:  0.639\n",
      "Recall:  0.629\n",
      "Precision: 0.644\n",
      "F1 Score: 0.637\n"
     ]
    }
   ],
   "source": [
    "print(\"=========Train Data=======\")\n",
    "print_summary(train_pred_tree,y_train)\n",
    "print(\"\\n=========Test Data=======\")\n",
    "print_summary(test_pred_tree,y_test)"
   ]
  },
  {
   "cell_type": "markdown",
   "metadata": {},
   "source": [
    "#### 평가\n",
    "train에 대해서 정확도가 거의 1에 가까운 성능을 보였으나 test에 대해서 정확도가 현저히 감소하였다.\n",
    "그러므로 과적합에 대한 문제가 발생했으므로 좋지 못하다고 할 수 있다."
   ]
  },
  {
   "cell_type": "markdown",
   "metadata": {},
   "source": [
    "## [4. train에 대해서 랜덤 포레스트 모델을 학습시키고 모델을 평가해주세요.](#0)"
   ]
  },
  {
   "cell_type": "code",
   "execution_count": 28,
   "metadata": {},
   "outputs": [],
   "source": [
    "from sklearn.ensemble import RandomForestClassifier\n",
    "from sklearn.model_selection import GridSearchCV\n",
    "import time"
   ]
  },
  {
   "cell_type": "code",
   "execution_count": 30,
   "metadata": {},
   "outputs": [
    {
     "name": "stdout",
     "output_type": "stream",
     "text": [
      "time : 755.0501134395599\n",
      "{'max_features': 'auto', 'n_estimators': 500}\n",
      "RandomForestClassifier(n_estimators=500, random_state=1229)\n"
     ]
    }
   ],
   "source": [
    "start = time.time()  # 시작 시간 저장\n",
    "param_grid=[\n",
    "    {'n_estimators':[100,200,300,400,500],'max_features':['auto','log2']},\n",
    "]\n",
    "randomforest_grid = RandomForestClassifier(random_state=1229)\n",
    "grid_search = GridSearchCV(randomforest_grid, param_grid, cv=5,\n",
    "                           scoring='accuracy',\n",
    "                           return_train_score=True)\n",
    "grid_search.fit(X_train, y_train)\n",
    "\n",
    "print(\"time :\", time.time() - start)  # 실행 시간 = 현재시각 - 시작시간 \n",
    "print(grid_search.best_params_)\n",
    "print(grid_search.best_estimator_)"
   ]
  },
  {
   "cell_type": "markdown",
   "metadata": {},
   "source": [
    "<a id='5'></a>"
   ]
  },
  {
   "cell_type": "code",
   "execution_count": 31,
   "metadata": {},
   "outputs": [
    {
     "data": {
      "text/plain": [
       "RandomForestClassifier(n_estimators=500, n_jobs=-1)"
      ]
     },
     "execution_count": 31,
     "metadata": {},
     "output_type": "execute_result"
    }
   ],
   "source": [
    "randomforest = RandomForestClassifier()\n",
    "randomforest.fit(X_train, y_train)\n",
    "\n",
    "randomforest_best=RandomForestClassifier(n_estimators=500,n_jobs=-1)\n",
    "randomforest_best.fit(X_train,y_train)"
   ]
  },
  {
   "cell_type": "code",
   "execution_count": 32,
   "metadata": {},
   "outputs": [],
   "source": [
    "train_pred_randomforest = randomforest.predict(X_train)\n",
    "test_pred_randomforest = randomforest.predict(X_test)\n",
    "\n",
    "train_pred_randomforest_best = randomforest_best.predict(X_train)\n",
    "test_pred_randomforest_best = randomforest_best.predict(X_test)"
   ]
  },
  {
   "cell_type": "code",
   "execution_count": 34,
   "metadata": {},
   "outputs": [
    {
     "name": "stdout",
     "output_type": "stream",
     "text": [
      "=========RF-Train Data=======\n",
      "Accuracy:  0.98\n",
      "Recall:  0.974\n",
      "Precision: 0.985\n",
      "F1 Score: 0.98\n",
      "\n",
      "=========RF-Test Data=======\n",
      "Accuracy:  0.709\n",
      "Recall:  0.706\n",
      "Precision: 0.712\n",
      "F1 Score: 0.709\n",
      "\n",
      "=========RF-B Train Data=======\n",
      "Accuracy:  0.98\n",
      "Recall:  0.972\n",
      "Precision: 0.987\n",
      "F1 Score: 0.98\n",
      "\n",
      "=========RF-B Test Data=======\n",
      "Accuracy:  0.71\n",
      "Recall:  0.706\n",
      "Precision: 0.714\n",
      "F1 Score: 0.71\n"
     ]
    }
   ],
   "source": [
    "print(\"=========RF-Train Data=======\")\n",
    "print_summary(train_pred_randomforest,y_train)\n",
    "print(\"\\n=========RF-Test Data=======\")\n",
    "print_summary(test_pred_randomforest,y_test)\n",
    "print()\n",
    "print(\"=========RF-B Train Data=======\")\n",
    "print_summary(train_pred_randomforest_best,y_train)\n",
    "print(\"\\n=========RF-B Test Data=======\")\n",
    "print_summary(test_pred_randomforest_best,y_test)\n"
   ]
  },
  {
   "cell_type": "markdown",
   "metadata": {},
   "source": [
    "#### 평가\n",
    "그냥 랜덤포레스트로 학습 시, train dataset에 과적합되는 현상이 일어났으므로 적절치 않다고 할 수 있다. \n",
    "그리고 최적의 파라메터를 찾아서 랜덤포레스트 학습 시에도 크게 차이가 없는 것을 볼 수 있다. "
   ]
  },
  {
   "cell_type": "markdown",
   "metadata": {},
   "source": [
    "## [5. 트리 모델과 랜덤 포레스트 모델의 성능을 비교하고 왜 그런 차이가 났는 지 설명하세요.](#0)"
   ]
  },
  {
   "cell_type": "markdown",
   "metadata": {},
   "source": [
    "정확도 측면에서는 랜덤포레스트 모델이 나았지만, 두 모델 다 과적합 현상이 발생해서 랜덤포레스트가 좋은 성능을 가진다고 보기 힘들다. 한편으로는 과적합 현상이 덜 일어났다고 해석할 수 있다.\n",
    "\n",
    "두 가지 모델 사이에서 발생한 차이의 원인으로는 랜덤 포레스트는 조금씩 다른 여러 트리의 묶음인데, 과적합이 되어도 서로 다른 방향으로 과대적합된 트리를 많이 만들면, 그 결과를 평균냄으로써 과대적합의 양을 줄일 수 있기 때문이다."
   ]
  }
 ],
 "metadata": {
  "kernelspec": {
   "display_name": "Python 3",
   "language": "python",
   "name": "python3"
  },
  "language_info": {
   "codemirror_mode": {
    "name": "ipython",
    "version": 3
   },
   "file_extension": ".py",
   "mimetype": "text/x-python",
   "name": "python",
   "nbconvert_exporter": "python",
   "pygments_lexer": "ipython3",
   "version": "3.8.5"
  }
 },
 "nbformat": 4,
 "nbformat_minor": 4
}
